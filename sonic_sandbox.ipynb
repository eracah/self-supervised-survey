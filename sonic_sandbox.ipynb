{
 "cells": [
  {
   "cell_type": "code",
   "execution_count": 1,
   "metadata": {},
   "outputs": [
    {
     "name": "stdout",
     "output_type": "stream",
     "text": [
      "Airstriker-Genesis\n",
      "AlienSoldier-Genesis\n",
      "AlteredBeast-Genesis\n",
      "BioHazardBattle-Genesis\n",
      "Columns-Genesis\n",
      "ColumnsIII-Genesis\n",
      "ComixZone-Genesis\n",
      "CrackDown-Genesis\n",
      "DrRobotniksMeanBeanMachine-Genesis\n",
      "DynamiteHeaddy-Genesis\n",
      "FatalLabyrinth-Genesis\n",
      "Flicky-Genesis\n",
      "GainGround-Genesis\n",
      "GalaxyForceII-Genesis\n",
      "GoldenAxe-Genesis\n",
      "GoldenAxeIII-Genesis\n",
      "KidChameleon-Genesis\n",
      "MonsterLair-Genesis\n",
      "RevengeOfShinobi-Genesis\n",
      "Ristar-Genesis\n",
      "ShadowDancerTheSecretOfShinobi-Genesis\n",
      "ShinobiIIIReturnOfTheNinjaMaster-Genesis\n",
      "SonicAndKnuckles3-Genesis\n",
      "SonicTheHedgehog-Genesis\n",
      "SonicTheHedgehog2-Genesis\n",
      "SpaceHarrierII-Genesis\n",
      "StreetsOfRage-Genesis\n",
      "StreetsOfRage2-Genesis\n",
      "StreetsOfRage3-Genesis\n",
      "SuperThunderBlade-Genesis\n",
      "Vectorman-Genesis\n",
      "Vectorman2-Genesis\n"
     ]
    }
   ],
   "source": [
    "import gym\n",
    "\n",
    "import retro\n",
    "import copy\n",
    "\n",
    "\n",
    "games = retro.data.list_games()\n",
    "valid_games = []\n",
    "for game in games:\n",
    "    try:\n",
    "        retro.make(game)\n",
    "        print(game)\n",
    "        valid_games.append(game)\n",
    "    except:\n",
    "        continue\n",
    "\n",
    "from matplotlib import pyplot as plt\n",
    "\n",
    "%matplotlib inline\n",
    "\n"
   ]
  },
  {
   "cell_type": "code",
   "execution_count": 88,
   "metadata": {},
   "outputs": [],
   "source": [
    "\n",
    "# games = retro.data.list_games()\n",
    "# env = None\n",
    "# j = 0\n",
    "# for game in games:\n",
    "#     #print(game)\n",
    "#     try:\n",
    "#         env = retro.make(game)\n",
    "#         del env\n",
    "#         env = None\n",
    "#     except:\n",
    "#         env = None\n",
    "#         continue\n",
    "#     states = retro.data.list_states(game)\n",
    "#     for state in states:\n",
    "#         if \"2\" not in state:\n",
    "\n",
    "#             del env\n",
    "#             env = retro.make(game=game,state=state)\n",
    "\n",
    "#             obs = env.reset()\n",
    "#             for i in range(200):\n",
    "#                 env.step(env.action_space.sample())\n",
    "#                 if i > 99 and i % 20 ==0:\n",
    "\n",
    "#                     plt.figure(j)\n",
    "#                     plt.imshow(env.render(\"rgb_array\"))\n",
    "#                     plt.title(game + \"_\" + state,color=\"b\")\n",
    "#                     j+=1\n",
    "#         break"
   ]
  },
  {
   "cell_type": "code",
   "execution_count": 2,
   "metadata": {},
   "outputs": [],
   "source": []
  },
  {
   "cell_type": "code",
   "execution_count": 2,
   "metadata": {},
   "outputs": [
    {
     "name": "stdout",
     "output_type": "stream",
     "text": [
      "Airstriker-Genesis\n",
      "126\n",
      "AlienSoldier-Genesis\n",
      "126\n",
      "AlteredBeast-Genesis\n",
      "126\n",
      "BioHazardBattle-Genesis\n",
      "126\n",
      "Columns-Genesis\n",
      "126\n",
      "ColumnsIII-Genesis\n",
      "126\n",
      "ComixZone-Genesis\n",
      "126\n",
      "CrackDown-Genesis\n",
      "126\n",
      "DrRobotniksMeanBeanMachine-Genesis\n",
      "126\n",
      "DynamiteHeaddy-Genesis\n",
      "126\n",
      "FatalLabyrinth-Genesis\n",
      "126\n",
      "Flicky-Genesis\n",
      "126\n",
      "GainGround-Genesis\n",
      "126\n",
      "GalaxyForceII-Genesis\n",
      "126\n",
      "GoldenAxe-Genesis\n",
      "126\n",
      "GoldenAxeIII-Genesis\n",
      "126\n",
      "KidChameleon-Genesis\n",
      "135\n",
      "MonsterLair-Genesis\n",
      "126\n",
      "RevengeOfShinobi-Genesis\n",
      "126\n",
      "Ristar-Genesis\n",
      "126\n",
      "ShadowDancerTheSecretOfShinobi-Genesis\n",
      "126\n",
      "ShinobiIIIReturnOfTheNinjaMaster-Genesis\n"
     ]
    },
    {
     "name": "stderr",
     "output_type": "stream",
     "text": [
      "ERROR:root:Internal Python error in the inspect module.\n",
      "Below is the traceback from this internal error.\n",
      "\n"
     ]
    },
    {
     "name": "stdout",
     "output_type": "stream",
     "text": [
      "Traceback (most recent call last):\n",
      "  File \"/usr/local/lib/python3.7/site-packages/IPython/core/interactiveshell.py\", line 2961, in run_code\n",
      "    exec(code_obj, self.user_global_ns, self.user_ns)\n",
      "  File \"<ipython-input-2-c3ed013b332b>\", line 11, in <module>\n",
      "    meaning.sort()\n",
      "KeyboardInterrupt\n",
      "\n",
      "During handling of the above exception, another exception occurred:\n",
      "\n",
      "Traceback (most recent call last):\n",
      "  File \"/usr/local/lib/python3.7/site-packages/IPython/core/interactiveshell.py\", line 1863, in showtraceback\n",
      "    stb = value._render_traceback_()\n",
      "AttributeError: 'KeyboardInterrupt' object has no attribute '_render_traceback_'\n",
      "\n",
      "During handling of the above exception, another exception occurred:\n",
      "\n",
      "Traceback (most recent call last):\n",
      "  File \"/usr/local/lib/python3.7/site-packages/IPython/core/ultratb.py\", line 1095, in get_records\n",
      "    return _fixed_getinnerframes(etb, number_of_lines_of_context, tb_offset)\n",
      "  File \"/usr/local/lib/python3.7/site-packages/IPython/core/ultratb.py\", line 311, in wrapped\n",
      "    return f(*args, **kwargs)\n",
      "  File \"/usr/local/lib/python3.7/site-packages/IPython/core/ultratb.py\", line 345, in _fixed_getinnerframes\n",
      "    records = fix_frame_records_filenames(inspect.getinnerframes(etb, context))\n",
      "  File \"/usr/local/Cellar/python/3.7.0/Frameworks/Python.framework/Versions/3.7/lib/python3.7/inspect.py\", line 1495, in getinnerframes\n",
      "    frameinfo = (tb.tb_frame,) + getframeinfo(tb, context)\n",
      "  File \"/usr/local/Cellar/python/3.7.0/Frameworks/Python.framework/Versions/3.7/lib/python3.7/inspect.py\", line 1453, in getframeinfo\n",
      "    filename = getsourcefile(frame) or getfile(frame)\n",
      "  File \"/usr/local/Cellar/python/3.7.0/Frameworks/Python.framework/Versions/3.7/lib/python3.7/inspect.py\", line 696, in getsourcefile\n",
      "    if getattr(getmodule(object, filename), '__loader__', None) is not None:\n",
      "  File \"/usr/local/Cellar/python/3.7.0/Frameworks/Python.framework/Versions/3.7/lib/python3.7/inspect.py\", line 742, in getmodule\n",
      "    os.path.realpath(f)] = module.__name__\n",
      "  File \"/usr/local/Cellar/python/3.7.0/Frameworks/Python.framework/Versions/3.7/lib/python3.7/posixpath.py\", line 389, in realpath\n",
      "    return abspath(path)\n",
      "  File \"/usr/local/Cellar/python/3.7.0/Frameworks/Python.framework/Versions/3.7/lib/python3.7/posixpath.py\", line 378, in abspath\n",
      "    return normpath(path)\n",
      "  File \"/usr/local/Cellar/python/3.7.0/Frameworks/Python.framework/Versions/3.7/lib/python3.7/posixpath.py\", line 334, in normpath\n",
      "    if isinstance(path, bytes):\n",
      "KeyboardInterrupt\n"
     ]
    },
    {
     "ename": "KeyboardInterrupt",
     "evalue": "",
     "output_type": "error",
     "traceback": [
      "\u001b[0;31m---------------------------------------------------------------------------\u001b[0m"
     ]
    }
   ],
   "source": [
    "env=None\n",
    "for game in valid_games:\n",
    "    print(game)\n",
    "    del env\n",
    "    env = retro.make(game)\n",
    "    ms = []\n",
    "    actions = []\n",
    "    for i in range(100000):\n",
    "        a = env.action_space.sample()\n",
    "        meaning = env.get_action_meaning(a)\n",
    "        meaning.sort()\n",
    "        actions.extend(meaning)\n",
    "        if meaning not in ms:\n",
    "            ms.append(meaning)\n",
    "\n",
    "    print(len(ms))"
   ]
  },
  {
   "cell_type": "code",
   "execution_count": 7,
   "metadata": {},
   "outputs": [],
   "source": [
    "env.reset()\n",
    "maxy = 0\n",
    "miny = 1057\n",
    "for i in range(100):\n",
    "    a = env.action_space.sample()\n",
    "    _obs, _rew, done, _info = env.step(a)\n",
    "    print(env.get_action_meaning(a))\n",
    "    print(_info[\"x\"])\n",
    "    if _info[\"y\"] > maxy:\n",
    "        maxy = copy.deepcopy(_info[\"y\"])\n",
    "    if _info[\"y\"] < miny:\n",
    "        miny = copy.deepcopy(_info[\"y\"])\n",
    "\n",
    "from ple import gym_ple\n",
    "import gym\n",
    "import retro\n",
    "\n",
    "env.buttons"
   ]
  },
  {
   "cell_type": "code",
   "execution_count": 7,
   "metadata": {},
   "outputs": [
    {
     "data": {
      "text/plain": [
       "<matplotlib.image.AxesImage at 0x114b9ab38>"
      ]
     },
     "execution_count": 7,
     "metadata": {},
     "output_type": "execute_result"
    },
    {
     "data": {
      "image/png": "[encoded data removed]",
      "text/plain": [
       "<Figure size 432x288 with 1 Axes>"
      ]
     },
     "metadata": {
      "needs_background": "light"
     },
     "output_type": "display_data"
    }
   ],
   "source": []
  },
  {
   "cell_type": "code",
   "execution_count": 12,
   "metadata": {},
   "outputs": [],
   "source": [
    "from comet_ml import Experiment"
   ]
  },
  {
   "cell_type": "code",
   "execution_count": 13,
   "metadata": {},
   "outputs": [
    {
     "data": {
      "text/plain": [
       "\u001b[0;31mInit signature:\u001b[0m \u001b[0mExperiment\u001b[0m\u001b[0;34m(\u001b[0m\u001b[0mapi_key\u001b[0m\u001b[0;34m=\u001b[0m\u001b[0;32mNone\u001b[0m\u001b[0;34m,\u001b[0m \u001b[0mproject_name\u001b[0m\u001b[0;34m=\u001b[0m\u001b[0;32mNone\u001b[0m\u001b[0;34m,\u001b[0m \u001b[0mteam_name\u001b[0m\u001b[0;34m=\u001b[0m\u001b[0;32mNone\u001b[0m\u001b[0;34m,\u001b[0m \u001b[0mworkspace\u001b[0m\u001b[0;34m=\u001b[0m\u001b[0;32mNone\u001b[0m\u001b[0;34m,\u001b[0m \u001b[0mlog_code\u001b[0m\u001b[0;34m=\u001b[0m\u001b[0;32mTrue\u001b[0m\u001b[0;34m,\u001b[0m \u001b[0mlog_graph\u001b[0m\u001b[0;34m=\u001b[0m\u001b[0;32mTrue\u001b[0m\u001b[0;34m,\u001b[0m \u001b[0mauto_param_logging\u001b[0m\u001b[0;34m=\u001b[0m\u001b[0;32mTrue\u001b[0m\u001b[0;34m,\u001b[0m \u001b[0mauto_metric_logging\u001b[0m\u001b[0;34m=\u001b[0m\u001b[0;32mTrue\u001b[0m\u001b[0;34m,\u001b[0m \u001b[0mparse_args\u001b[0m\u001b[0;34m=\u001b[0m\u001b[0;32mTrue\u001b[0m\u001b[0;34m,\u001b[0m \u001b[0mauto_output_logging\u001b[0m\u001b[0;34m=\u001b[0m\u001b[0;34m'native'\u001b[0m\u001b[0;34m,\u001b[0m \u001b[0mdisabled\u001b[0m\u001b[0;34m=\u001b[0m\u001b[0;32mFalse\u001b[0m\u001b[0;34m,\u001b[0m \u001b[0mlog_env_details\u001b[0m\u001b[0;34m=\u001b[0m\u001b[0;32mTrue\u001b[0m\u001b[0;34m,\u001b[0m \u001b[0mlog_git_metadata\u001b[0m\u001b[0;34m=\u001b[0m\u001b[0;32mTrue\u001b[0m\u001b[0;34m)\u001b[0m\u001b[0;34m\u001b[0m\u001b[0m\n",
       "\u001b[0;31mDocstring:\u001b[0m     \n",
       "Experiment is a unit of measurable research that defines a single run with some data/parameters/code/results.\n",
       "\n",
       "Creating an Experiment object in your code will report a new experiment to your Comet.ml project. Your Experiment\n",
       "will automatically track and collect many things and will also allow you to manually report anything.\n",
       "\n",
       "You can create multiple objects in one script (such as when looping over multiple hyper parameters).\n",
       "\u001b[0;31mInit docstring:\u001b[0m\n",
       "Creates a new experiment on the Comet.ml frontend.\n",
       "Args:\n",
       "    api_key: Your API key obtained from comet.ml\n",
       "    project_name: Optional. Send your experiment to a specific project. Otherwise will be sent to `Uncategorized Experiments`.\n",
       "                     If project name does not already exists Comet.ml will create a new project.\n",
       "    team_name: Deprecated. Use workspace instead.\n",
       "    workspace: Optional. Attach an experiment to a project that belongs to this workspace\n",
       "    log_code: Default(True) - allows you to enable/disable code logging\n",
       "    log_graph: Default(True) - allows you to enable/disable automatic computation graph logging.\n",
       "    auto_param_logging: Default(True) - allows you to enable/disable hyper parameters logging\n",
       "    auto_metric_logging: Default(True) - allows you to enable/disable metrics logging\n",
       "    parse_args: Default(True) - allows you to enable/disable automatic parsing of CLI arguments\n",
       "    auto_output_logging: Default(\"native\") - allows you to select\n",
       "        which output logging mode to use. The default is `\"native\"`\n",
       "        which will log all output even when it originated from a C\n",
       "        native library. You can also pass `\"simple\"` which will work\n",
       "        only for output made by Python code. If you want to disable\n",
       "        automatic output logging, you can pass `None`.\n",
       "    disabled: Default(False) - allows you to disable all network\n",
       "        communication with the Comet.ml backend. It is useful when you\n",
       "        just needs to works on your machine-learning scripts and need\n",
       "        to relaunch them several times at a time.\n",
       "    log_env_details: Default(True) - log various environment\n",
       "        informations in order to identify where the script is running\n",
       "    log_git_metadata: Default(True) - allow you to enable/disable the\n",
       "        automatic collection of git details\n",
       "\u001b[0;31mFile:\u001b[0m           /usr/local/lib/python3.7/site-packages/comet_ml/__init__.py\n",
       "\u001b[0;31mType:\u001b[0m           type\n"
      ]
     },
     "metadata": {},
     "output_type": "display_data"
    }
   ],
   "source": [
    "Experiment?"
   ]
  },
  {
   "cell_type": "code",
   "execution_count": null,
   "metadata": {},
   "outputs": [],
   "source": []
  }
 ],
 "metadata": {
  "kernelspec": {
   "display_name": "Python 3",
   "language": "python",
   "name": "python3"
  },
  "language_info": {
   "codemirror_mode": {
    "name": "ipython",
    "version": 3
   },
   "file_extension": ".py",
   "mimetype": "text/x-python",
   "name": "python",
   "nbconvert_exporter": "python",
   "pygments_lexer": "ipython3",
   "version": "3.7.0"
  }
 },
 "nbformat": 4,
 "nbformat_minor": 2
}
