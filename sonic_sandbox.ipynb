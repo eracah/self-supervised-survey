{
 "cells": [
  {
   "cell_type": "code",
   "execution_count": 1,
   "metadata": {},
   "outputs": [],
   "source": [
    "import gym\n",
    "\n",
    "import retro\n",
    "import copy\n",
    "\n",
    "games = retro.data.list_games()\n",
    "\n",
    "for game in games:\n",
    "    try:\n",
    "        retro.make(game)\n",
    "        print(game)\n",
    "    except:\n",
    "        continue\n",
    "\n",
    "env = retro.make(\"SonicAndKnuckles3-Genesis\")\n",
    "\n",
    "ms = []\n",
    "actions = []\n",
    "for i in range(100000):\n",
    "    a = env.action_space.sample()\n",
    "    meaning = env.get_action_meaning(a)\n",
    "    actions.extend(meaning)\n",
    "    if meaning not in ms:\n",
    "        ms.append(meaning)\n",
    "\n",
    "ms\n",
    "\n",
    "env.reset()\n",
    "maxy = 0\n",
    "miny = 1057\n",
    "for i in range(100):\n",
    "    a = env.action_space.sample()\n",
    "    _obs, _rew, done, _info = env.step(a)\n",
    "    print(env.get_action_meaning(a))\n",
    "    print(_info[\"x\"])\n",
    "    if _info[\"y\"] > maxy:\n",
    "        maxy = copy.deepcopy(_info[\"y\"])\n",
    "    if _info[\"y\"] < miny:\n",
    "        miny = copy.deepcopy(_info[\"y\"])\n"
   ]
  }
 ],
 "metadata": {
  "kernelspec": {
   "display_name": "Python 3",
   "language": "python",
   "name": "python3"
  },
  "language_info": {
   "codemirror_mode": {
    "name": "ipython",
    "version": 3
   },
   "file_extension": ".py",
   "mimetype": "text/x-python",
   "name": "python",
   "nbconvert_exporter": "python",
   "pygments_lexer": "ipython3",
   "version": "3.7.0"
  }
 },
 "nbformat": 4,
 "nbformat_minor": 2
}
