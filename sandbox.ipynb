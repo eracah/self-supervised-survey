{
 "cells": [
  {
   "cell_type": "code",
   "execution_count": 3,
   "metadata": {},
   "outputs": [],
   "source": [
    "import torch\n",
    "from torch import nn\n",
    "import torch.functional as F\n",
    "from models.base_encoder import Encoder\n",
    "from utils import classification_acc\n",
    "import numpy as np"
   ]
  },
  {
   "cell_type": "code",
   "execution_count": 7,
   "metadata": {},
   "outputs": [
    {
     "data": {
      "text/plain": [
       "0"
      ]
     },
     "execution_count": 7,
     "metadata": {},
     "output_type": "execute_result"
    }
   ],
   "source": []
  },
  {
   "cell_type": "code",
   "execution_count": 2,
   "metadata": {},
   "outputs": [],
   "source": [
    "class InOrderBinaryClassifier(nn.Module):\n",
    "    def __init__(self,in_ch, h_ch=256):\n",
    "        super(InOrderBinaryClassifier,self).__init__()\n",
    "        self.predictor = nn.Sequential(\n",
    "            nn.Linear(in_features=in_ch,out_features=h_ch),\n",
    "            nn.ReLU(),\n",
    "            nn.Linear(in_features=h_ch,out_features=2)\n",
    "        )\n",
    "    def forward(self,x):\n",
    "        return self.predictor(x)\n",
    "        "
   ]
  },
  {
   "cell_type": "code",
   "execution_count": null,
   "metadata": {},
   "outputs": [],
   "source": [
    "class ShuffleNLearn(nn.Module):\n",
    "    def __init__(self,num_frames=3, in_ch=3, im_wh=(64,64), h_ch=32, embed_len=32, batch_norm=False, num_actions=3, **kwargs):\n",
    "        super(ShuffleNLearn,self).__init__()\n",
    "        self.encoder = Encoder(in_ch=in_ch, im_wh=im_wh, h_ch=h_ch, embed_len=embed_len, batch_norm=batch_norm)\n",
    "        self.bin_clsf = InOrderBinaryClassifier(in_ch=num_frames*self.encoder.embed_len)\n",
    "    \n",
    "    def forward(self,xs):\n",
    "        f = torch.cat([self.encoder(x) for x in xs])\n",
    "        return self.bin_clsf(f)\n",
    "    \n",
    "    def shuffle(self,xs):\n",
    "        a,b,c,d,e = [xs[:,i] for i in range(5)]\n",
    "        bcd = copy.deepcopy(torch.cat(b,c,d))\n",
    "        bad = copy.deepcopy(torch.cat(b,a,d))\n",
    "        bed = copy.deepcopy(torch.cat(b,e,d))\n",
    "\n",
    "        \n",
    "    def loss_acc(self, trans):\n",
    "        xs = copy.deepcopy(trans.xs)\n",
    "        x_shuff, true = self.shuffle(xs)\n",
    "        pred = self.forward(x_shuff)\n",
    "        acc = classification_acc(logits=pred,true=true)\n",
    "        loss = nn.CrossEntropyLoss()(pred,true)\n",
    "        return loss, acc"
   ]
  }
 ],
 "metadata": {
  "kernelspec": {
   "display_name": "Python 3",
   "language": "python",
   "name": "python3"
  },
  "language_info": {
   "codemirror_mode": {
    "name": "ipython",
    "version": 3
   },
   "file_extension": ".py",
   "mimetype": "text/x-python",
   "name": "python",
   "nbconvert_exporter": "python",
   "pygments_lexer": "ipython3",
   "version": "3.6.3"
  }
 },
 "nbformat": 4,
 "nbformat_minor": 2
}
