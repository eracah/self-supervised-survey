{
 "cells": [
  {
   "cell_type": "code",
   "execution_count": 1,
   "metadata": {},
   "outputs": [
    {
     "name": "stdout",
     "output_type": "stream",
     "text": [
      "pygame 1.9.4\n",
      "Hello from the pygame community. https://www.pygame.org/contribute.html\n",
      "couldn't import doomish\n",
      "Couldn't import doom\n"
     ]
    }
   ],
   "source": [
    "\n",
    "import numpy as np\n",
    "from utils import setup_args\n",
    "import random\n",
    "from data.fillers import SamplerFiller\n",
    "args = setup_args()\n",
    "\n",
    "args.env_name = \"Pong-v0\"\n",
    "args.model_name = \"vae\"\n",
    "args.frames_per_example = 10\n",
    "args.batch_size = 256"
   ]
  },
  {
   "cell_type": "code",
   "execution_count": 2,
   "metadata": {},
   "outputs": [],
   "source": [
    "sf = SamplerFiller(args)"
   ]
  },
  {
   "cell_type": "code",
   "execution_count": 3,
   "metadata": {},
   "outputs": [],
   "source": [
    "fs = sf.fill(2000)"
   ]
  },
  {
   "cell_type": "code",
   "execution_count": 4,
   "metadata": {},
   "outputs": [
    {
     "name": "stdout",
     "output_type": "stream",
     "text": [
      "torch.Size([256, 10, 3, 128, 128])\n",
      "torch.Size([256, 9])\n",
      "torch.Size([256, 10, 3, 128, 128])\n",
      "torch.Size([256, 9])\n",
      "torch.Size([256, 10, 3, 128, 128])\n",
      "torch.Size([256, 9])\n",
      "torch.Size([256, 10, 3, 128, 128])\n",
      "torch.Size([256, 9])\n",
      "torch.Size([256, 10, 3, 128, 128])\n",
      "torch.Size([256, 9])\n",
      "torch.Size([256, 10, 3, 128, 128])\n",
      "torch.Size([256, 9])\n",
      "torch.Size([256, 10, 3, 128, 128])\n",
      "torch.Size([256, 9])\n",
      "torch.Size([256, 10, 3, 128, 128])\n",
      "torch.Size([256, 9])\n",
      "torch.Size([256, 10, 3, 128, 128])\n",
      "torch.Size([256, 9])\n",
      "torch.Size([147, 10, 3, 128, 128])\n",
      "torch.Size([147, 9])\n"
     ]
    }
   ],
   "source": [
    "trans = fs.sample()\n",
    "print(trans.xs.shape)\n",
    "print(trans.actions.shape)\n",
    "\n",
    "for trans in fs:\n",
    "    print(trans.xs.shape)\n",
    "    print(trans.actions.shape)"
   ]
  },
  {
   "cell_type": "code",
   "execution_count": null,
   "metadata": {},
   "outputs": [],
   "source": []
  }
 ],
 "metadata": {
  "kernelspec": {
   "display_name": "Python 3",
   "language": "python",
   "name": "python3"
  },
  "language_info": {
   "codemirror_mode": {
    "name": "ipython",
    "version": 3
   },
   "file_extension": ".py",
   "mimetype": "text/x-python",
   "name": "python",
   "nbconvert_exporter": "python",
   "pygments_lexer": "ipython3",
   "version": "3.6.3"
  }
 },
 "nbformat": 4,
 "nbformat_minor": 2
}
