{
 "cells": [
  {
   "cell_type": "code",
   "execution_count": 65,
   "metadata": {},
   "outputs": [],
   "source": [
    "from utils import get_trans_tuple, convert_frame\n",
    "import gym\n",
    "from gym_minigrid.register import env_list\n",
    "from gym_minigrid.minigrid import Grid\n",
    "import numpy as np\n",
    "from collections import namedtuple\n",
    "import copy"
   ]
  },
  {
   "cell_type": "code",
   "execution_count": 91,
   "metadata": {},
   "outputs": [],
   "source": [
    "def get_trans_tuple():\n",
    "        tuple_fields = ['xs','actions', 'rs']\n",
    "        \n",
    "\n",
    "        tuple_fields.extend(['x_coords', 'y_coords',\"directions\"])\n",
    "\n",
    "        Transition = namedtuple(\"Transition\",tuple(tuple_fields))\n",
    "        return Transition"
   ]
  },
  {
   "cell_type": "code",
   "execution_count": 92,
   "metadata": {},
   "outputs": [],
   "source": [
    "class DataCollector(object):\n",
    "    def __init__(self, policy=lambda x0: np.random.choice(3),\n",
    "                        env=gym.make(\"MiniGrid-Empty-6x6-v0\"),\n",
    "                        convert_fxn=convert_frame,\n",
    "                        datapoints_per_trans=1):\n",
    "        self.convert_fxn = convert_fxn\n",
    "        self.policy = policy\n",
    "        self.env = env\n",
    "        self.datapoints_per_trans = datapoints_per_trans\n",
    "        \n",
    "    \n",
    "    def _collect_datapoint(self):\n",
    "        x = self.convert_fxn(self.env.render(\"rgb_array\"))\n",
    "        x_coord, y_coord = int(self.env.agent_pos[0]), int(self.env.agent_pos[1])\n",
    "        direction = self.env.agent_dir\n",
    "        return x, x_coord, y_coord, direction\n",
    "\n",
    "    def append_to_trans_ar(self,trans,action,reward):\n",
    "        trans.actions.append(copy.deepcopy(action))\n",
    "        trans.rs.append(copy.deepcopy(reward))\n",
    "        \n",
    "    def append_to_trans_state(self,trans,x, x_coord, y_coord, direction):\n",
    "        trans.xs.append(copy.deepcopy(x))\n",
    "        trans.x_coords.append(copy.deepcopy(x_coord))\n",
    "        trans.y_coords.append(copy.deepcopy(y_coord))\n",
    "        trans.directions.append(copy.deepcopy(direction))\n",
    "        \n",
    "        \n",
    "    def collect_transition_per_the_policy(self):\n",
    "        Transition = get_trans_tuple()\n",
    "        num_fields = len(Transition.__dict__[\"_fields\"])\n",
    "\n",
    "        trans_list = [[] for _ in range(num_fields)]\n",
    "        trans = Transition(*trans_list)\n",
    "        for _ in range(self.datapoints_per_trans):\n",
    "            x, x_coord, y_coord, direction = self._collect_datapoint()\n",
    "            self.append_to_trans_state(trans,x, x_coord, y_coord, direction)\n",
    "    \n",
    "            # to_tensor true just in case policy is exactly a neural network\n",
    "            action = self.policy(self.convert_fxn(x,to_tensor=True))\n",
    "            _, reward, done, _ = self.env.step(action)\n",
    "            \n",
    "            self.append_to_trans_ar(trans,action,reward)\n",
    "            \n",
    "        \n",
    "        x, x_coord, y_coord, direction = self._collect_datapoint()\n",
    "        self.append_to_trans_state(trans,x, x_coord, y_coord, direction)\n",
    "        return trans\n",
    "    \n",
    "#     def collect_specific_datapoint(self,coords, direction, action):\n",
    "#         self.env.agent_pos = np.asarray(coords)\n",
    "#         self._get_desired_direction(direction)\n",
    "#         x0 = self.env.render(\"rgb_array\")\n",
    "#         trans_obj  = self._collect_datapoint(x0, action)\n",
    "#         return trans_obj\n",
    "#     def _get_desired_direction(self,desired_direction):\n",
    "#         true_direction = self.env.agent_dir\n",
    "#         while not np.allclose(true_direction,desired_direction):\n",
    "#             _ = self.env.step(0)\n",
    "#             true_direction = self.env.agent_dir"
   ]
  },
  {
   "cell_type": "code",
   "execution_count": null,
   "metadata": {},
   "outputs": [],
   "source": []
  },
  {
   "cell_type": "code",
   "execution_count": 108,
   "metadata": {},
   "outputs": [],
   "source": [
    "if __name__ == \"__main__\":\n",
    "    dc = DataCollector(datapoints_per_trans=5)\n",
    "\n",
    "    trans = dc.collect_transition_per_the_policy()"
   ]
  },
  {
   "cell_type": "code",
   "execution_count": null,
   "metadata": {},
   "outputs": [],
   "source": []
  }
 ],
 "metadata": {
  "kernelspec": {
   "display_name": "Python 3",
   "language": "python",
   "name": "python3"
  },
  "language_info": {
   "codemirror_mode": {
    "name": "ipython",
    "version": 3
   },
   "file_extension": ".py",
   "mimetype": "text/x-python",
   "name": "python",
   "nbconvert_exporter": "python",
   "pygments_lexer": "ipython3",
   "version": "3.6.3"
  }
 },
 "nbformat": 4,
 "nbformat_minor": 2
}
